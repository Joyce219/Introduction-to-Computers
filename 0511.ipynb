{
  "nbformat": 4,
  "nbformat_minor": 0,
  "metadata": {
    "colab": {
      "name": "0511.ipynb",
      "provenance": [],
      "authorship_tag": "ABX9TyOUwM+wLwLvD3PlyfStMPLY",
      "include_colab_link": true
    },
    "kernelspec": {
      "name": "python3",
      "display_name": "Python 3"
    },
    "language_info": {
      "name": "python"
    }
  },
  "cells": [
    {
      "cell_type": "markdown",
      "metadata": {
        "id": "view-in-github",
        "colab_type": "text"
      },
      "source": [
        "<a href=\"https://colab.research.google.com/github/Joyce219/Introduction-to-Computers/blob/main/0511.ipynb\" target=\"_parent\"><img src=\"https://colab.research.google.com/assets/colab-badge.svg\" alt=\"Open In Colab\"/></a>"
      ]
    },
    {
      "cell_type": "code",
      "source": [
        "print(\"test\")"
      ],
      "metadata": {
        "colab": {
          "base_uri": "https://localhost:8080/"
        },
        "id": "XcJzM2fEj_IL",
        "outputId": "f3d1833d-b5d4-4864-e971-cfff3e3e6c6d"
      },
      "execution_count": 2,
      "outputs": [
        {
          "output_type": "stream",
          "name": "stdout",
          "text": [
            "test\n"
          ]
        }
      ]
    },
    {
      "cell_type": "code",
      "execution_count": 15,
      "metadata": {
        "colab": {
          "base_uri": "https://localhost:8080/"
        },
        "id": "clGYgOt3d3Cf",
        "outputId": "353dea84-e6eb-4cc3-9a78-cd0cf02fae7c"
      },
      "outputs": [
        {
          "output_type": "stream",
          "name": "stdout",
          "text": [
            "請輸入你的體溫36\n",
            "體溫正常!\n"
          ]
        }
      ],
      "source": [
        "temp = float(input(\"請輸入你的體溫\"))\n",
        "if (temp >= 37.5):\n",
        "  print('體溫過高!')\n",
        "elif (temp >= 37 and temp < 37.4):\n",
        "  print('體溫略高!')\n",
        "elif (temp >= 34 and temp < 36.9):\n",
        "  print('體溫正常!')\n",
        "else:\n",
        "  print('體溫異常,請重新量測!')"
      ]
    },
    {
      "cell_type": "code",
      "source": [
        "money = int(input(\"請輸入購物金額:\"))\n",
        "if(money>=10000):\n",
        "  if(money>=100000):\n",
        "    print(\"八折\",money*0.8,end=\"元\\n\")\n",
        "  elif(money >= 50000):\n",
        "    print(\"八五折\",money*0.85,end=\"元\\n\")\n",
        "  elif (money >= 30000):\n",
        "    print(\"九折\",money*0.9,end=\"元\\n\")\n",
        "  else:\n",
        "    print(\"九五折\",money*0.95,end=\"元\\n\")\n",
        "else:\n",
        "  print(\"沒打折\",money,end=\"元\\n\")"
      ],
      "metadata": {
        "colab": {
          "base_uri": "https://localhost:8080/"
        },
        "id": "xcIwKFBdj2M8",
        "outputId": "1a37db70-664f-474d-ac94-b15793d4ccaf"
      },
      "execution_count": 10,
      "outputs": [
        {
          "output_type": "stream",
          "name": "stdout",
          "text": [
            "請輸入購物金額:100\n",
            "沒打折 100元\n"
          ]
        }
      ]
    },
    {
      "cell_type": "code",
      "source": [
        "money = int(input(\"請輸入購物金額:\"))\n",
        "if(money>=10000):\n",
        "  if(money>=100000):\n",
        "    print(\"八折\",money*0.8,end=\"元\\n\")\n",
        "  elif(money >= 50000):\n",
        "    print(\"八五折\",money*0.85,end=\"元\\n\")\n",
        "  elif (money >= 30000):\n",
        "    print(\"九折\",money*0.9,end=\"元\\n\")\n",
        "  else:\n",
        "    print(\"九五折\",money*0.95,end=\"元\\n\")\n",
        "else:\n",
        "  print(\"沒打折\",money,end=\"元\\n\")"
      ],
      "metadata": {
        "colab": {
          "base_uri": "https://localhost:8080/"
        },
        "id": "c5ITO6wFpqir",
        "outputId": "021d5b84-254b-4e69-f932-e903d16bda9f"
      },
      "execution_count": 11,
      "outputs": [
        {
          "output_type": "stream",
          "name": "stdout",
          "text": [
            "請輸入購物金額:100000\n",
            "八折 80000.0元\n"
          ]
        }
      ]
    },
    {
      "cell_type": "code",
      "source": [
        "sc = int(input(\"請輸入成績\"))\n",
        "if (sc >= 90):\n",
        "  print('A')\n",
        "elif (sc >= 80 and sc <= 89):\n",
        "  print('B')\n",
        "elif (sc >= 70 and sc <= 79):\n",
        "  print('C')\n",
        "elif (sc >= 60 and sc<= 69):\n",
        "  print('D')\n",
        "else:\n",
        "  print('E')"
      ],
      "metadata": {
        "colab": {
          "base_uri": "https://localhost:8080/"
        },
        "id": "T5P_1lfYrSMq",
        "outputId": "bb6800c5-0061-4e3a-d059-656b5206dc2d"
      },
      "execution_count": 23,
      "outputs": [
        {
          "output_type": "stream",
          "name": "stdout",
          "text": [
            "請輸入成績90\n",
            "A\n"
          ]
        }
      ]
    },
    {
      "cell_type": "code",
      "source": [
        "sc = int(input(\"請輸入成績\"))\n",
        "if (sc >= 90):\n",
        "  print('A')\n",
        "elif (sc >= 80 and sc <= 89):\n",
        "  print('B')\n",
        "elif (sc >= 70 and sc <= 79):\n",
        "  print('C')\n",
        "elif (sc >= 60 and sc <= 69):\n",
        "  print('D')\n",
        "else:\n",
        "  print('E')"
      ],
      "metadata": {
        "colab": {
          "base_uri": "https://localhost:8080/"
        },
        "id": "l_tc20JfvaaS",
        "outputId": "39206262-767a-4635-9401-e37fb915363a"
      },
      "execution_count": 22,
      "outputs": [
        {
          "output_type": "stream",
          "name": "stdout",
          "text": [
            "請輸入成績80\n",
            "B\n"
          ]
        }
      ]
    },
    {
      "cell_type": "code",
      "source": [
        "sc = int(input(\"請輸入成績\"))\n",
        "if (sc >= 90):\n",
        "  print('A')\n",
        "elif (sc >= 80 and sc <= 89):\n",
        "  print('B')\n",
        "elif (sc >= 70 and sc <= 79):\n",
        "  print('C')\n",
        "elif (sc >= 60 and sc <= 69):\n",
        "  print('D')\n",
        "else:\n",
        "  print('E')"
      ],
      "metadata": {
        "colab": {
          "base_uri": "https://localhost:8080/"
        },
        "id": "D-zzuU4GvidO",
        "outputId": "87b20696-c5ab-4fb9-8fc8-0e02bd7182ca"
      },
      "execution_count": 24,
      "outputs": [
        {
          "output_type": "stream",
          "name": "stdout",
          "text": [
            "請輸入成績50\n",
            "E\n"
          ]
        }
      ]
    },
    {
      "cell_type": "code",
      "source": [
        "month = int(input(\"請輸入月份:\"))\n",
        "if (month >= 3 and month <= 5):\n",
        "  print(month,'月是春天!')\n",
        "elif (month >= 6 and month <= 8):\n",
        "  print(month,'月是夏天!')\n",
        "elif (month >= 9 and month <= 11):\n",
        "  print(month,'月是秋天!')\n",
        "elif (month == 12):\n",
        "  print(month,'月是冬天!')\n",
        "elif (month == 1):\n",
        "  print(month,'月是冬天!')\n",
        "elif (month == 2):\n",
        "  print(month,'月是冬天!')\n",
        "else:\n",
        "  print('月份不再範圍內!')"
      ],
      "metadata": {
        "colab": {
          "base_uri": "https://localhost:8080/"
        },
        "id": "jK2J8LOMv4Ys",
        "outputId": "a0c3981c-c07c-4e0a-dca6-aa04db1acb82"
      },
      "execution_count": 42,
      "outputs": [
        {
          "output_type": "stream",
          "name": "stdout",
          "text": [
            "請輸入月份:3\n",
            "3 月是春天!\n"
          ]
        }
      ]
    },
    {
      "cell_type": "code",
      "source": [
        "month = int(input(\"請輸入月份:\"))\n",
        "if (month >= 3 and month <= 5):\n",
        "  print(month,'月是春天!')\n",
        "elif (month >= 6 and month <= 8):\n",
        "  print(month,'月是夏天!')\n",
        "elif (month >= 9 and month <= 11):\n",
        "  print(month,'月是秋天!')\n",
        "elif (month == 12):\n",
        "  print(month,'月是冬天!')\n",
        "elif (month == 1):\n",
        "  print(month,'月是冬天!')\n",
        "elif (month == 2):\n",
        "  print(month,'月是冬天!')\n",
        "else:\n",
        "  print('月份不再範圍內!')"
      ],
      "metadata": {
        "colab": {
          "base_uri": "https://localhost:8080/"
        },
        "id": "x3oIjW1OxGN0",
        "outputId": "95da826c-e470-45c7-b942-d29c5ff7ca38"
      },
      "execution_count": 41,
      "outputs": [
        {
          "output_type": "stream",
          "name": "stdout",
          "text": [
            "請輸入月份:12\n",
            "12 月是冬天!\n"
          ]
        }
      ]
    },
    {
      "cell_type": "code",
      "source": [
        "money = int(input(\"請輸入今年收入淨額:\"))\n",
        "if(money>=300000):\n",
        "  if(money >= 2000000):\n",
        "    print(\"付稅金額:\",money*0.3,end=\"元\\n\")\n",
        "  elif(money >= 1000000):\n",
        "    print(\"付稅金額:\",money*0.21,end=\"元\\n\")\n",
        "  elif (money >= 600000):\n",
        "    print(\"付稅金額:\",money*0.13,end=\"元\\n\")\n",
        "  else:\n",
        "    print(\"付稅金額:\",money*0.06,end=\"元\\n\")\n",
        "else:\n",
        "  print(\"付稅金額:\",0,end=\"元\\n\")"
      ],
      "metadata": {
        "colab": {
          "base_uri": "https://localhost:8080/"
        },
        "id": "ZnDBMGoWAGaG",
        "outputId": "befbd47b-6dd1-42a3-f278-1391d6bcc668"
      },
      "execution_count": 44,
      "outputs": [
        {
          "output_type": "stream",
          "name": "stdout",
          "text": [
            "請輸入今年收入淨額:100000\n",
            "付稅金額: 0元\n"
          ]
        }
      ]
    },
    {
      "cell_type": "code",
      "source": [
        "money = int(input(\"請輸入今年收入淨額:\"))\n",
        "if(money>=300000):\n",
        "  if(money >= 2000000):\n",
        "    print(\"付稅金額:\",money*0.3,end=\"元\\n\")\n",
        "  elif(money >= 1000000):\n",
        "    print(\"付稅金額:\",money*0.21,end=\"元\\n\")\n",
        "  elif (money >= 600000):\n",
        "    print(\"付稅金額:\",money*0.13,end=\"元\\n\")\n",
        "  else:\n",
        "    print(\"付稅金額:\",money*0.06,end=\"元\\n\")\n",
        "else:\n",
        "  print(\"付稅金額:\",0,end=\"元\\n\")"
      ],
      "metadata": {
        "colab": {
          "base_uri": "https://localhost:8080/"
        },
        "id": "jhBYGLKVCBhe",
        "outputId": "35a7bf02-41be-4a18-d900-d3f832837531"
      },
      "execution_count": 45,
      "outputs": [
        {
          "output_type": "stream",
          "name": "stdout",
          "text": [
            "請輸入今年收入淨額:2000000\n",
            "付稅金額: 600000.0元\n"
          ]
        }
      ]
    },
    {
      "cell_type": "code",
      "source": [
        ""
      ],
      "metadata": {
        "id": "b9jwOD4ACO2U"
      },
      "execution_count": null,
      "outputs": []
    }
  ]
}